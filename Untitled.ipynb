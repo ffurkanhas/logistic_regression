{
 "cells": [
  {
   "cell_type": "code",
   "execution_count": 2879,
   "metadata": {},
   "outputs": [],
   "source": [
    "import numpy as np\n",
    "import matplotlib.pyplot as plt"
   ]
  },
  {
   "cell_type": "markdown",
   "metadata": {},
   "source": [
    "## Read data from file and shuffle them for slicing as 'training' and test'\n",
    "##### Unfortunately we can’t (or at least shouldn’t) use the same cost function MSE (L2) as we did for linear regression. Why? There is a great math explanation in chapter 3 of Michael Neilson’s deep learning book [5], but for now I’ll simply say it’s because our prediction function is non-linear (due to sigmoid transform). Squaring this prediction as we do in MSE results in a non-convex function with many local minimums. If our cost function has many local minimums, gradient descent may not find the optimal global minimum."
   ]
  },
  {
   "cell_type": "code",
   "execution_count": 2880,
   "metadata": {},
   "outputs": [],
   "source": [
    "ionosphere = np.loadtxt('./datasets/ionosphere.data', delimiter=',', dtype=str)\n",
    "\n",
    "sonar = np.loadtxt('./datasets/sonar.all-data', delimiter=',', dtype=str)\n",
    "\n",
    "np.random.shuffle(ionosphere) # shuffle the data\n",
    "np.random.shuffle(sonar) # shuffle the data\n",
    "\n",
    "ionosphereTest, ionosphereTraining = ionosphere[:int((len(ionosphere)/100*20)), :], ionosphere[int(len(ionosphere)/100*20):, :]\n",
    "sonarTest, sonarTraining = sonar[:int((len(sonar)/100*20)), :], sonar[int(len(sonar)/100*20):, :]"
   ]
  },
  {
   "cell_type": "markdown",
   "metadata": {},
   "source": [
    "#### Change 'g' and 'r' values as 1 and 0"
   ]
  },
  {
   "cell_type": "code",
   "execution_count": 2881,
   "metadata": {},
   "outputs": [],
   "source": [
    "for i in range(ionosphereTraining.shape[0]):\n",
    "    if ionosphereTraining[i][34] == 'g':\n",
    "        ionosphereTraining[i][34] = 1\n",
    "    else:\n",
    "        ionosphereTraining[i][34] = 0\n",
    "\n",
    "for i in range(ionosphereTest.shape[0]):\n",
    "    if ionosphereTest[i][34] == 'g':\n",
    "        ionosphereTest[i][34] = 1\n",
    "    else:\n",
    "        ionosphereTest[i][34] = 0\n",
    "        \n",
    "ionosphereTrainingLabels = ionosphereTraining[:, :34]\n",
    "ionosphereTrainingTargets = ionosphereTraining[:, 34:]\n",
    "\n",
    "ionosphereTestLabels = ionosphereTest[:, :34]\n",
    "ionosphereTestTargets = ionosphereTest[:, 34:]"
   ]
  },
  {
   "cell_type": "markdown",
   "metadata": {},
   "source": [
    "#### Change data arrays to np.array"
   ]
  },
  {
   "cell_type": "code",
   "execution_count": 2882,
   "metadata": {},
   "outputs": [],
   "source": [
    "ionosphereTrainingLabels = np.array(ionosphereTrainingLabels)\n",
    "ionosphereTrainingTargets = np.array(ionosphereTrainingTargets)\n",
    "\n",
    "ionosphereTestLabels = np.array(ionosphereTestLabels)\n",
    "ionosphereTestTargets = np.array(ionosphereTestTargets)"
   ]
  },
  {
   "cell_type": "code",
   "execution_count": 2883,
   "metadata": {},
   "outputs": [],
   "source": [
    "def sigmoid(scores):\n",
    "    return 1 / (1 + np.exp(-scores))"
   ]
  },
  {
   "cell_type": "code",
   "execution_count": 2884,
   "metadata": {},
   "outputs": [],
   "source": [
    "def log_likelihood(features, target, weights):\n",
    "    scores = np.dot(features, weights)\n",
    "    ll = np.sum( target*scores - np.log(1 + np.exp(scores)) )\n",
    "    return ll\n",
    "\n",
    "def logistic_loss(y, y_hat):\n",
    "    return -np.mean(y * np.log(y_hat) + (1-y)*np.log(1- y_hat))"
   ]
  },
  {
   "cell_type": "code",
   "execution_count": 2885,
   "metadata": {},
   "outputs": [],
   "source": [
    "def minibatch_gradient_descent(X,y,theta,learning_rate,iterations,batch_size):\n",
    "    m = len(y)\n",
    "    cost_history = np.zeros(iterations)\n",
    "    n_batches = int(m/batch_size)\n",
    "    intercept = np.ones((X.shape[0], 1))\n",
    "    X = np.hstack((intercept, X))\n",
    "    for it in range(iterations):\n",
    "        cost = 0.0\n",
    "        indices = np.random.permutation(m)\n",
    "        X = X[indices]\n",
    "        y = y[indices]\n",
    "        for i in range(0,m,batch_size):\n",
    "            X_i = X[i:i+batch_size]\n",
    "            y_i = y[i:i+batch_size]\n",
    "            \n",
    "            prediction = np.dot(X_i,theta)\n",
    "            \n",
    "            theta = theta - (1/batch_size)*learning_rate*( X_i.T.dot((prediction - y_i)))\n",
    "            cost = log_likelihood(X, y, theta)\n",
    "        cost_history[it]  = cost\n",
    "        if it % 10000 == 0:\n",
    "            print(\"cost \" + str(it) + \". iteration: \" + str(cost))\n",
    "        \n",
    "        \n",
    "    return theta, cost_history"
   ]
  },
  {
   "cell_type": "code",
   "execution_count": 2886,
   "metadata": {},
   "outputs": [
    {
     "name": "stdout",
     "output_type": "stream",
     "text": [
      "cost 0. iteration: -277.6394185164679\n"
     ]
    }
   ],
   "source": [
    "lr = 0.01\n",
    "n_iter = 5000\n",
    "batch_size = 16\n",
    "\n",
    "theta = np.ones((35,1))\n",
    "ionosphereTrainingLabels = ionosphereTrainingLabels.astype(float)\n",
    "ionosphereTrainingTargets = ionosphereTrainingTargets.astype(float)\n",
    "theta,cost_history = minibatch_gradient_descent(ionosphereTrainingLabels,ionosphereTrainingTargets,theta,lr,n_iter,batch_size)"
   ]
  },
  {
   "cell_type": "code",
   "execution_count": 2887,
   "metadata": {},
   "outputs": [
    {
     "data": {
      "image/png": "[encoded data removed]",
      "text/plain": [
       "<Figure size 360x288 with 1 Axes>"
      ]
     },
     "metadata": {
      "needs_background": "light"
     },
     "output_type": "display_data"
    }
   ],
   "source": [
    "fig,ax = plt.subplots(figsize=(5,4))\n",
    "\n",
    "ax.set_ylabel('Cost',rotation=0)\n",
    "ax.set_xlabel('Iterations')\n",
    "\n",
    "_=ax.plot(range(n_iter),cost_history,'b.')"
   ]
  },
  {
   "cell_type": "code",
   "execution_count": 2888,
   "metadata": {},
   "outputs": [
    {
     "name": "stdout",
     "output_type": "stream",
     "text": [
      "0.8648648648648648\n",
      "0.8714285714285714\n"
     ]
    }
   ],
   "source": [
    "ionosphereTestLabels = ionosphereTestLabels.astype(float)\n",
    "ionosphereTestTargets = ionosphereTestTargets.astype(float)\n",
    "X2_temp = np.zeros((ionosphereTestLabels.shape[0], ionosphereTestLabels.shape[1] + 1))\n",
    "for i in range(ionosphereTestLabels.shape[0]):\n",
    "    for j in range(ionosphereTestLabels.shape[1]):\n",
    "        X2_temp[i][j] = ionosphereTestLabels[i][j]\n",
    "final_scores = np.dot(X2_temp, theta)\n",
    "preds = np.round(sigmoid(final_scores))\n",
    "count = 0\n",
    "for i in range(len(ionosphereTestTargets)):\n",
    "    if ionosphereTestTargets[i] == preds[i]:\n",
    "        count += 1\n",
    "\n",
    "from sklearn.metrics import f1_score\n",
    "print(f1_score(preds, ionosphereTestTargets))\n",
    "\n",
    "from sklearn.linear_model import LogisticRegression\n",
    "import warnings\n",
    "warnings.filterwarnings(\"ignore\", category=FutureWarning)\n",
    "clf = LogisticRegression(fit_intercept=True, C = 1e15)\n",
    "clf.fit(ionosphereTrainingLabels, ionosphereTrainingTargets.ravel())\n",
    "print (clf.score(ionosphereTestLabels, ionosphereTestTargets))"
   ]
  },
  {
   "cell_type": "code",
   "execution_count": null,
   "metadata": {},
   "outputs": [],
   "source": []
  },
  {
   "cell_type": "code",
   "execution_count": null,
   "metadata": {},
   "outputs": [],
   "source": []
  },
  {
   "cell_type": "code",
   "execution_count": null,
   "metadata": {},
   "outputs": [],
   "source": []
  }
 ],
 "metadata": {
  "kernelspec": {
   "display_name": "Python 3",
   "language": "python",
   "name": "python3"
  },
  "language_info": {
   "codemirror_mode": {
    "name": "ipython",
    "version": 3
   },
   "file_extension": ".py",
   "mimetype": "text/x-python",
   "name": "python",
   "nbconvert_exporter": "python",
   "pygments_lexer": "ipython3",
   "version": "3.7.1"
  }
 },
 "nbformat": 4,
 "nbformat_minor": 2
}
